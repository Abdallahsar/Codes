{
  "cells": [
    {
      "cell_type": "markdown",
      "id": "892533ce-490d-405d-b73d-d6ac82a26671",
      "metadata": {
        "id": "892533ce-490d-405d-b73d-d6ac82a26671"
      },
      "source": [
        "<h1 align=\"center\">Part 1: Preprocessing, Feature Engineering, and Predictive Pipeline for Gold Futures Dataset</h1>\n"
      ]
    },
    {
      "cell_type": "code",
      "execution_count": null,
      "id": "25e69913-2087-4f51-be50-b9c3f37d7b8d",
      "metadata": {
        "id": "25e69913-2087-4f51-be50-b9c3f37d7b8d"
      },
      "outputs": [],
      "source": [
        "import skfuzzy as fuzz\n",
        "import pandas as pd\n",
        "import numpy as np\n",
        "import matplotlib.pyplot as plt\n",
        "import seaborn as sns\n",
        "import matplotlib.pyplot as plt\n",
        "import seaborn as sns\n",
        "from sklearn.model_selection import train_test_split\n",
        "from sklearn.preprocessing import StandardScaler\n",
        "from sklearn.ensemble import RandomForestClassifier\n",
        "from sklearn.metrics import classification_report, accuracy_score\n",
        "from sklearn.feature_selection import mutual_info_classif\n",
        "from sklearn.linear_model import LogisticRegression\n",
        "from keras.models import Sequential\n",
        "from keras.layers import Dense, LeakyReLU, BatchNormalization\n",
        "from keras.optimizers import Adam\n",
        "from sklearn.metrics import mean_squared_error\n",
        "from keras import initializers\n",
        "# Compile the GAN\n",
        "from keras.models import Model\n",
        "from keras.layers import Input"
      ]
    },
    {
      "cell_type": "code",
      "execution_count": null,
      "id": "121dd6a2-1762-40cb-9b3e-9dad2bbd35e7",
      "metadata": {
        "id": "121dd6a2-1762-40cb-9b3e-9dad2bbd35e7"
      },
      "outputs": [],
      "source": [
        "df=pd.read_excel(\"gold_futures.xlsx\")"
      ]
    },
    {
      "cell_type": "code",
      "execution_count": null,
      "id": "9ede99cd-1218-4e0e-8fd8-bdee301df2c3",
      "metadata": {
        "id": "9ede99cd-1218-4e0e-8fd8-bdee301df2c3",
        "outputId": "bc5aa8f9-1d25-4b6e-bd5c-e88643951ed2"
      },
      "outputs": [
        {
          "data": {
            "text/html": [
              "<div>\n",
              "<style scoped>\n",
              "    .dataframe tbody tr th:only-of-type {\n",
              "        vertical-align: middle;\n",
              "    }\n",
              "\n",
              "    .dataframe tbody tr th {\n",
              "        vertical-align: top;\n",
              "    }\n",
              "\n",
              "    .dataframe thead th {\n",
              "        text-align: right;\n",
              "    }\n",
              "</style>\n",
              "<table border=\"1\" class=\"dataframe\">\n",
              "  <thead>\n",
              "    <tr style=\"text-align: right;\">\n",
              "      <th></th>\n",
              "      <th>Date</th>\n",
              "      <th>Open</th>\n",
              "      <th>High</th>\n",
              "      <th>Low</th>\n",
              "      <th>Close</th>\n",
              "      <th>Adj Close</th>\n",
              "      <th>Volume</th>\n",
              "      <th>Price Movement</th>\n",
              "    </tr>\n",
              "  </thead>\n",
              "  <tbody>\n",
              "    <tr>\n",
              "      <th>0</th>\n",
              "      <td>2020-01-02</td>\n",
              "      <td>1518.099976</td>\n",
              "      <td>1528.699951</td>\n",
              "      <td>1518.000000</td>\n",
              "      <td>1524.500000</td>\n",
              "      <td>1524.500000</td>\n",
              "      <td>214</td>\n",
              "      <td>Up</td>\n",
              "    </tr>\n",
              "    <tr>\n",
              "      <th>1</th>\n",
              "      <td>2020-01-03</td>\n",
              "      <td>1530.099976</td>\n",
              "      <td>1552.699951</td>\n",
              "      <td>1530.099976</td>\n",
              "      <td>1549.199951</td>\n",
              "      <td>1549.199951</td>\n",
              "      <td>107</td>\n",
              "      <td>Up</td>\n",
              "    </tr>\n",
              "    <tr>\n",
              "      <th>2</th>\n",
              "      <td>2020-01-06</td>\n",
              "      <td>1580.000000</td>\n",
              "      <td>1580.000000</td>\n",
              "      <td>1560.400024</td>\n",
              "      <td>1566.199951</td>\n",
              "      <td>1566.199951</td>\n",
              "      <td>416</td>\n",
              "      <td>Up</td>\n",
              "    </tr>\n",
              "    <tr>\n",
              "      <th>3</th>\n",
              "      <td>2020-01-07</td>\n",
              "      <td>1558.300049</td>\n",
              "      <td>1576.300049</td>\n",
              "      <td>1558.300049</td>\n",
              "      <td>1571.800049</td>\n",
              "      <td>1571.800049</td>\n",
              "      <td>47</td>\n",
              "      <td>Up</td>\n",
              "    </tr>\n",
              "    <tr>\n",
              "      <th>4</th>\n",
              "      <td>2020-01-08</td>\n",
              "      <td>1579.699951</td>\n",
              "      <td>1604.199951</td>\n",
              "      <td>1552.300049</td>\n",
              "      <td>1557.400024</td>\n",
              "      <td>1557.400024</td>\n",
              "      <td>236</td>\n",
              "      <td>Down</td>\n",
              "    </tr>\n",
              "    <tr>\n",
              "      <th>...</th>\n",
              "      <td>...</td>\n",
              "      <td>...</td>\n",
              "      <td>...</td>\n",
              "      <td>...</td>\n",
              "      <td>...</td>\n",
              "      <td>...</td>\n",
              "      <td>...</td>\n",
              "      <td>...</td>\n",
              "    </tr>\n",
              "    <tr>\n",
              "      <th>1240</th>\n",
              "      <td>2024-12-10</td>\n",
              "      <td>2662.300049</td>\n",
              "      <td>2698.199951</td>\n",
              "      <td>2661.000000</td>\n",
              "      <td>2697.600098</td>\n",
              "      <td>2697.600098</td>\n",
              "      <td>437</td>\n",
              "      <td>Up</td>\n",
              "    </tr>\n",
              "    <tr>\n",
              "      <th>1241</th>\n",
              "      <td>2024-12-11</td>\n",
              "      <td>2701.800049</td>\n",
              "      <td>2733.800049</td>\n",
              "      <td>2693.100098</td>\n",
              "      <td>2733.800049</td>\n",
              "      <td>2733.800049</td>\n",
              "      <td>3387</td>\n",
              "      <td>Up</td>\n",
              "    </tr>\n",
              "    <tr>\n",
              "      <th>1242</th>\n",
              "      <td>2024-12-12</td>\n",
              "      <td>2725.100098</td>\n",
              "      <td>2725.100098</td>\n",
              "      <td>2677.399902</td>\n",
              "      <td>2687.500000</td>\n",
              "      <td>2687.500000</td>\n",
              "      <td>2365</td>\n",
              "      <td>Down</td>\n",
              "    </tr>\n",
              "    <tr>\n",
              "      <th>1243</th>\n",
              "      <td>2024-12-13</td>\n",
              "      <td>2688.199951</td>\n",
              "      <td>2689.300049</td>\n",
              "      <td>2647.899902</td>\n",
              "      <td>2656.000000</td>\n",
              "      <td>2656.000000</td>\n",
              "      <td>1125</td>\n",
              "      <td>Down</td>\n",
              "    </tr>\n",
              "    <tr>\n",
              "      <th>1244</th>\n",
              "      <td>2024-12-16</td>\n",
              "      <td>2658.300049</td>\n",
              "      <td>2663.300049</td>\n",
              "      <td>2651.000000</td>\n",
              "      <td>2651.399902</td>\n",
              "      <td>2651.399902</td>\n",
              "      <td>1125</td>\n",
              "      <td>Down</td>\n",
              "    </tr>\n",
              "  </tbody>\n",
              "</table>\n",
              "<p>1245 rows × 8 columns</p>\n",
              "</div>"
            ],
            "text/plain": [
              "           Date         Open         High          Low        Close  \\\n",
              "0    2020-01-02  1518.099976  1528.699951  1518.000000  1524.500000   \n",
              "1    2020-01-03  1530.099976  1552.699951  1530.099976  1549.199951   \n",
              "2    2020-01-06  1580.000000  1580.000000  1560.400024  1566.199951   \n",
              "3    2020-01-07  1558.300049  1576.300049  1558.300049  1571.800049   \n",
              "4    2020-01-08  1579.699951  1604.199951  1552.300049  1557.400024   \n",
              "...         ...          ...          ...          ...          ...   \n",
              "1240 2024-12-10  2662.300049  2698.199951  2661.000000  2697.600098   \n",
              "1241 2024-12-11  2701.800049  2733.800049  2693.100098  2733.800049   \n",
              "1242 2024-12-12  2725.100098  2725.100098  2677.399902  2687.500000   \n",
              "1243 2024-12-13  2688.199951  2689.300049  2647.899902  2656.000000   \n",
              "1244 2024-12-16  2658.300049  2663.300049  2651.000000  2651.399902   \n",
              "\n",
              "        Adj Close  Volume Price Movement  \n",
              "0     1524.500000     214             Up  \n",
              "1     1549.199951     107             Up  \n",
              "2     1566.199951     416             Up  \n",
              "3     1571.800049      47             Up  \n",
              "4     1557.400024     236           Down  \n",
              "...           ...     ...            ...  \n",
              "1240  2697.600098     437             Up  \n",
              "1241  2733.800049    3387             Up  \n",
              "1242  2687.500000    2365           Down  \n",
              "1243  2656.000000    1125           Down  \n",
              "1244  2651.399902    1125           Down  \n",
              "\n",
              "[1245 rows x 8 columns]"
            ]
          },
          "execution_count": 96,
          "metadata": {},
          "output_type": "execute_result"
        }
      ],
      "source": [
        "df"
      ]
    },
    {
      "cell_type": "markdown",
      "id": "7070e956-bf2c-404a-96df-faf107656891",
      "metadata": {
        "id": "7070e956-bf2c-404a-96df-faf107656891"
      },
      "source": [
        "# Preprocessing the Data"
      ]
    },
    {
      "cell_type": "code",
      "execution_count": null,
      "id": "cb8b2293-0bc3-42fd-a21a-4e14763bb748",
      "metadata": {
        "id": "cb8b2293-0bc3-42fd-a21a-4e14763bb748"
      },
      "outputs": [],
      "source": [
        "df=df.dropna()"
      ]
    },
    {
      "cell_type": "code",
      "execution_count": null,
      "id": "99e91d12-e5f5-4a04-a1c7-9226b38559d5",
      "metadata": {
        "id": "99e91d12-e5f5-4a04-a1c7-9226b38559d5",
        "outputId": "1b07420a-0087-4bf5-ae36-47ed601c08d3"
      },
      "outputs": [
        {
          "data": {
            "text/plain": [
              "Date              0\n",
              "Open              0\n",
              "High              0\n",
              "Low               0\n",
              "Close             0\n",
              "Adj Close         0\n",
              "Volume            0\n",
              "Price Movement    0\n",
              "dtype: int64"
            ]
          },
          "execution_count": 101,
          "metadata": {},
          "output_type": "execute_result"
        }
      ],
      "source": [
        "df.isnull().sum()"
      ]
    },
    {
      "cell_type": "code",
      "execution_count": null,
      "id": "fbd7895c-f3f3-415a-849b-7d0850444c29",
      "metadata": {
        "id": "fbd7895c-f3f3-415a-849b-7d0850444c29",
        "outputId": "35b4ba12-ec00-4229-d157-8e37fba7761a"
      },
      "outputs": [
        {
          "data": {
            "text/plain": [
              "Index(['Date', 'Open', 'High', 'Low', 'Close', 'Adj Close', 'Volume',\n",
              "       'Price Movement'],\n",
              "      dtype='object')"
            ]
          },
          "execution_count": 104,
          "metadata": {},
          "output_type": "execute_result"
        }
      ],
      "source": [
        "df.columns"
      ]
    },
    {
      "cell_type": "code",
      "execution_count": null,
      "id": "aa136591-53c2-4f7b-9b18-eebf60639d57",
      "metadata": {
        "id": "aa136591-53c2-4f7b-9b18-eebf60639d57",
        "outputId": "612b080f-f844-48d6-aa7c-51b2fb664f3e"
      },
      "outputs": [
        {
          "name": "stdout",
          "output_type": "stream",
          "text": [
            "<class 'pandas.core.frame.DataFrame'>\n",
            "RangeIndex: 1245 entries, 0 to 1244\n",
            "Data columns (total 8 columns):\n",
            " #   Column          Non-Null Count  Dtype         \n",
            "---  ------          --------------  -----         \n",
            " 0   Date            1245 non-null   datetime64[ns]\n",
            " 1   Open            1245 non-null   float64       \n",
            " 2   High            1245 non-null   float64       \n",
            " 3   Low             1245 non-null   float64       \n",
            " 4   Close           1245 non-null   float64       \n",
            " 5   Adj Close       1245 non-null   float64       \n",
            " 6   Volume          1245 non-null   int64         \n",
            " 7   Price Movement  1245 non-null   object        \n",
            "dtypes: datetime64[ns](1), float64(5), int64(1), object(1)\n",
            "memory usage: 77.9+ KB\n"
          ]
        }
      ],
      "source": [
        "df.info()"
      ]
    },
    {
      "cell_type": "code",
      "execution_count": null,
      "id": "9846f38c-d909-42be-9d94-419ed8252ccc",
      "metadata": {
        "id": "9846f38c-d909-42be-9d94-419ed8252ccc",
        "outputId": "0458f5ff-c0a7-4aac-adc4-997d81faa24a"
      },
      "outputs": [
        {
          "name": "stderr",
          "output_type": "stream",
          "text": [
            "C:\\Users\\FAST LAPTOP\\AppData\\Local\\Temp\\ipykernel_17388\\2774020657.py:5: FutureWarning: DataFrame.fillna with 'method' is deprecated and will raise in a future version. Use obj.ffill() or obj.bfill() instead.\n",
            "  df.fillna(method='ffill', inplace=True)\n"
          ]
        }
      ],
      "source": [
        "df['Date'] = pd.to_datetime(df['Date'])\n",
        "\n",
        "df.fillna(method='ffill', inplace=True)\n",
        "df['Price_Change'] = df['Close'] - df['Open']  # Price change in a day\n",
        "df['Price_Movement'] = np.where(df['Price_Change'] > 0, 1, 0)  # Label: Up=1, Down=0\n",
        "df['Volatility'] = df['High'] - df['Low']  # Volatility of the day\n",
        "df['Moving_Avg'] = df['Close'].rolling(window=5).mean()  # 5-Day Moving Average\n",
        "\n",
        "\n",
        "df.dropna(inplace=True)\n",
        "\n",
        "X = df[['Open', 'High', 'Low', 'Close', 'Volume', 'Volatility', 'Moving_Avg']]\n",
        "y = df['Price_Movement']\n",
        "\n",
        "\n",
        "scaler = StandardScaler()\n",
        "X_scaled = scaler.fit_transform(X)\n",
        "\n",
        "X_train, X_test, y_train, y_test = train_test_split(X_scaled, y, test_size=0.2, random_state=42)"
      ]
    },
    {
      "cell_type": "markdown",
      "id": "ec511578-855c-43e4-b22c-e9d94c0eb31f",
      "metadata": {
        "id": "ec511578-855c-43e4-b22c-e9d94c0eb31f"
      },
      "source": [
        "# Machine Learning Pipeline for Classification\n",
        ""
      ]
    },
    {
      "cell_type": "code",
      "execution_count": null,
      "id": "252ca031-6a6d-4221-9e4f-151c57a31fac",
      "metadata": {
        "id": "252ca031-6a6d-4221-9e4f-151c57a31fac",
        "outputId": "db8ef69a-efc3-45cb-c02c-c6a6055024d2"
      },
      "outputs": [
        {
          "name": "stdout",
          "output_type": "stream",
          "text": [
            "Random Forest Classifier Report:\n",
            "              precision    recall  f1-score   support\n",
            "\n",
            "           0       0.79      0.83      0.81       133\n",
            "           1       0.79      0.74      0.76       116\n",
            "\n",
            "    accuracy                           0.79       249\n",
            "   macro avg       0.79      0.78      0.79       249\n",
            "weighted avg       0.79      0.79      0.79       249\n",
            "\n",
            "Logistic Regression Classifier Report:\n",
            "              precision    recall  f1-score   support\n",
            "\n",
            "           0       0.90      0.91      0.90       133\n",
            "           1       0.89      0.88      0.89       116\n",
            "\n",
            "    accuracy                           0.90       249\n",
            "   macro avg       0.90      0.89      0.89       249\n",
            "weighted avg       0.90      0.90      0.90       249\n",
            "\n",
            "Random Forest Accuracy: 0.7871485943775101\n",
            "Logistic Regression Accuracy: 0.8955823293172691\n",
            "Best Model: Logistic Regression\n"
          ]
        }
      ],
      "source": [
        "mi = mutual_info_classif(X_train, y_train)\n",
        "mi_df = pd.DataFrame({'Feature': X.columns, 'Importance': mi})\n",
        "mi_df = mi_df.sort_values(by='Importance', ascending=False)\n",
        "\n",
        "\n",
        "rf_classifier = RandomForestClassifier(n_estimators=100, random_state=42)\n",
        "lr_classifier = LogisticRegression(max_iter=1000)\n",
        "\n",
        "\n",
        "rf_classifier.fit(X_train, y_train)\n",
        "y_pred_rf = rf_classifier.predict(X_test)\n",
        "\n",
        "lr_classifier.fit(X_train, y_train)\n",
        "y_pred_lr = lr_classifier.predict(X_test)\n",
        "\n",
        "\n",
        "print(\"Random Forest Classifier Report:\")\n",
        "print(classification_report(y_test, y_pred_rf))\n",
        "print(\"Logistic Regression Classifier Report:\")\n",
        "print(classification_report(y_test, y_pred_lr))\n",
        "\n",
        "\n",
        "rf_accuracy = accuracy_score(y_test, y_pred_rf)\n",
        "lr_accuracy = accuracy_score(y_test, y_pred_lr)\n",
        "\n",
        "print(f\"Random Forest Accuracy: {rf_accuracy}\")\n",
        "print(f\"Logistic Regression Accuracy: {lr_accuracy}\")\n",
        "\n",
        "\n",
        "best_model = rf_classifier if rf_accuracy > lr_accuracy else lr_classifier\n",
        "print(f\"Best Model: {'Random Forest' if best_model == rf_classifier else 'Logistic Regression'}\")"
      ]
    },
    {
      "cell_type": "markdown",
      "id": "bcaaca43-e46c-428f-9c40-e25df12ebd31",
      "metadata": {
        "id": "bcaaca43-e46c-428f-9c40-e25df12ebd31"
      },
      "source": [
        "# Summary of Steps:\n",
        "**Preprocessing:** Clean and feature-engineer the dataset (handling missing values, creating new features like price change and volatility).\n",
        "**GAN:** Build and train a GAN for data augmentation, experimenting with different parameters.\n",
        "**Modeling:** Train machine learning models (Random Forest and Logistic Regression) with advanced feature engineering.\n",
        "**Evaluation:** Compare the performance of models with and without feature engineering and select the best-performing model."
      ]
    },
    {
      "cell_type": "markdown",
      "id": "ee29cc66-4ab2-41d3-a8cb-74f48353a411",
      "metadata": {
        "id": "ee29cc66-4ab2-41d3-a8cb-74f48353a411"
      },
      "source": [
        "# Best Model Logistic Regresssor\n",
        "Logistic Regression Classifier Report:\n",
        "              precision    recall  f1-score   support\n",
        "\n",
        "           0       0.90      0.91      0.90       133\n",
        "           1       0.89      0.88      0.89       116\n",
        "\n",
        "    accuracy                           0.90       249\n",
        "   macro avg       0.90      0.89      0.89       249\n",
        "weighted avg       0.90      0.90      0.90       249\n",
        "\n",
        "# Random Forest Accuracy: 0.7871485943775101\n",
        "# Logistic Regression Accuracy: 0.8955823293172691\n",
        "# Best Model: Logistic Regression"
      ]
    }
  ],
  "metadata": {
    "kernelspec": {
      "display_name": "Python 3 (ipykernel)",
      "language": "python",
      "name": "python3"
    },
    "language_info": {
      "codemirror_mode": {
        "name": "ipython",
        "version": 3
      },
      "file_extension": ".py",
      "mimetype": "text/x-python",
      "name": "python",
      "nbconvert_exporter": "python",
      "pygments_lexer": "ipython3",
      "version": "3.12.4"
    },
    "colab": {
      "provenance": []
    }
  },
  "nbformat": 4,
  "nbformat_minor": 5
}