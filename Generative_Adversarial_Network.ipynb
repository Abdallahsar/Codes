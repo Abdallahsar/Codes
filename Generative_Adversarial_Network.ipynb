{
  "cells": [
    {
      "cell_type": "code",
      "execution_count": null,
      "id": "5890e488-f613-4935-9aba-5ed6dec0f468",
      "metadata": {
        "id": "5890e488-f613-4935-9aba-5ed6dec0f468"
      },
      "outputs": [],
      "source": [
        "import pandas as pd\n",
        "import pandas as pd\n",
        "import numpy as np\n",
        "import matplotlib.pyplot as plt\n",
        "import seaborn as sns\n",
        "import pandas as pd\n",
        "import numpy as np\n",
        "import matplotlib.pyplot as plt\n",
        "import seaborn as sns\n",
        "from sklearn.model_selection import train_test_split\n",
        "from sklearn.preprocessing import StandardScaler\n",
        "from sklearn.ensemble import RandomForestClassifier\n",
        "from sklearn.metrics import classification_report, accuracy_score\n",
        "from sklearn.feature_selection import mutual_info_classif\n",
        "from sklearn.linear_model import LogisticRegression\n",
        "from keras.models import Sequential\n",
        "from keras.layers import Dense, LeakyReLU, BatchNormalization\n",
        "from keras.optimizers import Adam\n",
        "from sklearn.metrics import mean_squared_error\n",
        "from keras import initializers\n",
        "# Compile the GAN\n",
        "from keras.models import Model\n",
        "from keras.layers import Input"
      ]
    },
    {
      "cell_type": "code",
      "execution_count": null,
      "id": "815ee60f-ca0d-4864-83a0-3ad9e719e13a",
      "metadata": {
        "id": "815ee60f-ca0d-4864-83a0-3ad9e719e13a"
      },
      "outputs": [],
      "source": [
        "df=pd.read_excel(\"gold_futures.xlsx\")"
      ]
    },
    {
      "cell_type": "code",
      "execution_count": null,
      "id": "c1532acf-abbd-4a8e-8e68-e5222549c911",
      "metadata": {
        "id": "c1532acf-abbd-4a8e-8e68-e5222549c911",
        "outputId": "64bbc0a1-08e3-4b56-fcde-8a5084d88629"
      },
      "outputs": [
        {
          "name": "stderr",
          "output_type": "stream",
          "text": [
            "C:\\Users\\FAST LAPTOP\\AppData\\Local\\Temp\\ipykernel_20672\\2774020657.py:5: FutureWarning: DataFrame.fillna with 'method' is deprecated and will raise in a future version. Use obj.ffill() or obj.bfill() instead.\n",
            "  df.fillna(method='ffill', inplace=True)\n"
          ]
        }
      ],
      "source": [
        "df['Date'] = pd.to_datetime(df['Date'])\n",
        "\n",
        "df.fillna(method='ffill', inplace=True)\n",
        "\n",
        "df['Price_Change'] = df['Close'] - df['Open']  # Price change in a day\n",
        "df['Price_Movement'] = np.where(df['Price_Change'] > 0, 1, 0)  # Label: Up=1, Down=0\n",
        "df['Volatility'] = df['High'] - df['Low']  # Volatility of the day\n",
        "df['Moving_Avg'] = df['Close'].rolling(window=5).mean()  # 5-Day Moving Average\n",
        "\n",
        "df.dropna(inplace=True)\n",
        "\n",
        "X = df[['Open', 'High', 'Low', 'Close', 'Volume', 'Volatility', 'Moving_Avg']]\n",
        "y = df['Price_Movement']\n",
        "\n",
        "\n",
        "scaler = StandardScaler()\n",
        "X_scaled = scaler.fit_transform(X)\n",
        "X_train, X_test, y_train, y_test = train_test_split(X_scaled, y, test_size=0.2, random_state=42)"
      ]
    },
    {
      "cell_type": "markdown",
      "id": "a07df601-836a-4897-9b06-b7022250a5d5",
      "metadata": {
        "id": "a07df601-836a-4897-9b06-b7022250a5d5"
      },
      "source": [
        "# Implementing the GAN for Data Augmentation\n",
        "\n"
      ]
    },
    {
      "cell_type": "code",
      "execution_count": null,
      "id": "5cea9714-1ec6-4f3c-b30b-43cc330120c9",
      "metadata": {
        "id": "5cea9714-1ec6-4f3c-b30b-43cc330120c9",
        "outputId": "e25fcc52-01f2-49cd-dccc-0c8960583081"
      },
      "outputs": [
        {
          "name": "stderr",
          "output_type": "stream",
          "text": [
            "C:\\Users\\FAST LAPTOP\\AppData\\Roaming\\Python\\Python312\\site-packages\\keras\\src\\layers\\core\\dense.py:87: UserWarning: Do not pass an `input_shape`/`input_dim` argument to a layer. When using Sequential models, prefer using an `Input(shape)` object as the first layer in the model instead.\n",
            "  super().__init__(activity_regularizer=activity_regularizer, **kwargs)\n"
          ]
        },
        {
          "name": "stdout",
          "output_type": "stream",
          "text": [
            "\u001b[1m1/1\u001b[0m \u001b[32m━━━━━━━━━━━━━━━━━━━━\u001b[0m\u001b[37m\u001b[0m \u001b[1m1s\u001b[0m 542ms/step\n"
          ]
        },
        {
          "name": "stderr",
          "output_type": "stream",
          "text": [
            "C:\\Users\\FAST LAPTOP\\AppData\\Roaming\\Python\\Python312\\site-packages\\keras\\src\\backend\\tensorflow\\trainer.py:75: UserWarning: The model does not have any trainable weights.\n",
            "  warnings.warn(\"The model does not have any trainable weights.\")\n"
          ]
        },
        {
          "name": "stdout",
          "output_type": "stream",
          "text": [
            "Epoch 0/2, D Loss: 0.6960567235946655, G Loss: [array(0.69505346, dtype=float32), array(0.69505346, dtype=float32), array(0.453125, dtype=float32)]\n",
            "\u001b[1m1/1\u001b[0m \u001b[32m━━━━━━━━━━━━━━━━━━━━\u001b[0m\u001b[37m\u001b[0m \u001b[1m0s\u001b[0m 35ms/step\n",
            "WARNING:tensorflow:5 out of the last 5 calls to <function TensorFlowTrainer.make_train_function.<locals>.one_step_on_iterator at 0x00000281CBFEA020> triggered tf.function retracing. Tracing is expensive and the excessive number of tracings could be due to (1) creating @tf.function repeatedly in a loop, (2) passing tensors with different shapes, (3) passing Python objects instead of tensors. For (1), please define your @tf.function outside of the loop. For (2), @tf.function has reduce_retracing=True option that can avoid unnecessary retracing. For (3), please refer to https://www.tensorflow.org/guide/function#controlling_retracing and https://www.tensorflow.org/api_docs/python/tf/function for  more details.\n",
            "WARNING:tensorflow:6 out of the last 6 calls to <function TensorFlowTrainer.make_train_function.<locals>.one_step_on_iterator at 0x00000281CCCE2200> triggered tf.function retracing. Tracing is expensive and the excessive number of tracings could be due to (1) creating @tf.function repeatedly in a loop, (2) passing tensors with different shapes, (3) passing Python objects instead of tensors. For (1), please define your @tf.function outside of the loop. For (2), @tf.function has reduce_retracing=True option that can avoid unnecessary retracing. For (3), please refer to https://www.tensorflow.org/guide/function#controlling_retracing and https://www.tensorflow.org/api_docs/python/tf/function for  more details.\n"
          ]
        }
      ],
      "source": [
        "# Define the GAN Generator model\n",
        "def build_generator(input_dim):\n",
        "    model = Sequential()\n",
        "    model.add(Dense(128, input_dim=input_dim, kernel_initializer=initializers.RandomNormal(stddev=0.02)))\n",
        "    model.add(LeakyReLU(0.2))\n",
        "    model.add(BatchNormalization(momentum=0.8))\n",
        "    model.add(Dense(256))\n",
        "    model.add(LeakyReLU(0.2))\n",
        "    model.add(BatchNormalization(momentum=0.8))\n",
        "    model.add(Dense(512))\n",
        "    model.add(LeakyReLU(0.2))\n",
        "    model.add(BatchNormalization(momentum=0.8))\n",
        "    model.add(Dense(1024))\n",
        "    model.add(LeakyReLU(0.2))\n",
        "    model.add(BatchNormalization(momentum=0.8))\n",
        "    model.add(Dense(X_train.shape[1], activation='tanh'))\n",
        "    return model\n",
        "\n",
        "# Define the GAN Discriminator model\n",
        "def build_discriminator():\n",
        "    model = Sequential()\n",
        "    model.add(Dense(1024, input_dim=X_train.shape[1], kernel_initializer=initializers.RandomNormal(stddev=0.02)))\n",
        "    model.add(LeakyReLU(0.2))\n",
        "    model.add(Dense(512))\n",
        "    model.add(LeakyReLU(0.2))\n",
        "    model.add(Dense(256))\n",
        "    model.add(LeakyReLU(0.2))\n",
        "    model.add(Dense(1, activation='sigmoid'))  # Binary output\n",
        "    return model\n",
        "def compile_gan(generator, discriminator):\n",
        "    discriminator.compile(loss='binary_crossentropy', optimizer=Adam(learning_rate=0.0002, beta_1=0.5), metrics=['accuracy'])\n",
        "\n",
        "\n",
        "    discriminator.trainable = False\n",
        "\n",
        "\n",
        "    gan_input = Input(shape=(100,))\n",
        "    x = generator(gan_input)\n",
        "    gan_output = discriminator(x)\n",
        "\n",
        "    gan = Model(gan_input, gan_output)\n",
        "\n",
        "    gan.compile(loss='binary_crossentropy', optimizer=Adam(learning_rate=0.0002, beta_1=0.5))\n",
        "\n",
        "    return gan\n",
        "\n",
        "\n",
        "\n",
        "generator = build_generator(100)\n",
        "discriminator = build_discriminator()\n",
        "gan = compile_gan(generator, discriminator)\n",
        "\n",
        "epochs = 2\n",
        "batch_size = 64\n",
        "half_batch = batch_size // 2\n",
        "for epoch in range(epochs):\n",
        "    idx = np.random.randint(0, X_train.shape[0], half_batch)\n",
        "    real_data = X_train[idx]\n",
        "\n",
        "    noise = np.random.normal(0, 1, (half_batch, 100))\n",
        "    fake_data = generator.predict(noise)\n",
        "\n",
        "    d_loss_real = discriminator.train_on_batch(real_data, np.ones((half_batch, 1)))\n",
        "    d_loss_fake = discriminator.train_on_batch(fake_data, np.zeros((half_batch, 1)))\n",
        "    d_loss = 0.5 * np.add(d_loss_real, d_loss_fake)\n",
        "\n",
        "    noise = np.random.normal(0, 1, (batch_size, 100))\n",
        "    g_loss = gan.train_on_batch(noise, np.ones((batch_size, 1)))\n",
        "\n",
        "    if epoch % 100 == 0:\n",
        "        print(f\"Epoch {epoch}/{epochs}, D Loss: {d_loss[0]}, G Loss: {g_loss}\")\n"
      ]
    },
    {
      "cell_type": "markdown",
      "id": "8edaf3a7-3fab-41cb-bb97-f1a72a8ffaff",
      "metadata": {
        "id": "8edaf3a7-3fab-41cb-bb97-f1a72a8ffaff"
      },
      "source": [
        "#  Generate and Evaluate Synthetic Data\n",
        ""
      ]
    },
    {
      "cell_type": "code",
      "execution_count": null,
      "id": "f2d2b3f2-e7b3-4e26-aa2c-95562967c4f0",
      "metadata": {
        "id": "f2d2b3f2-e7b3-4e26-aa2c-95562967c4f0",
        "outputId": "1ae7d7f7-b08e-453d-bb23-26d90645e42b"
      },
      "outputs": [
        {
          "name": "stdout",
          "output_type": "stream",
          "text": [
            "\u001b[1m313/313\u001b[0m \u001b[32m━━━━━━━━━━━━━━━━━━━━\u001b[0m\u001b[37m\u001b[0m \u001b[1m2s\u001b[0m 5ms/step\n"
          ]
        },
        {
          "data": {
            "image/png": "[encoded data removed]",
            "text/plain": [
              "<Figure size 640x480 with 1 Axes>"
            ]
          },
          "metadata": {},
          "output_type": "display_data"
        }
      ],
      "source": [
        "noise = np.random.normal(0, 1, (10000, 100))\n",
        "synthetic_data = generator.predict(noise)\n",
        "\n",
        "real_data_df = pd.DataFrame(X_train, columns=['Open', 'High', 'Low', 'Close', 'Volume', 'Volatility', 'Moving_Avg'])\n",
        "synthetic_data_df = pd.DataFrame(synthetic_data, columns=['Open', 'High', 'Low', 'Close', 'Volume', 'Volatility', 'Moving_Avg'])\n",
        "\n",
        "sns.histplot(real_data_df['Close'], kde=True, color='blue', label='Real Data')\n",
        "sns.histplot(synthetic_data_df['Close'], kde=True, color='red', label='Synthetic Data')\n",
        "plt.legend()\n",
        "plt.title(\"Real vs Synthetic Data: Close Prices\")\n",
        "plt.show()"
      ]
    }
  ],
  "metadata": {
    "kernelspec": {
      "display_name": "Python 3 (ipykernel)",
      "language": "python",
      "name": "python3"
    },
    "language_info": {
      "codemirror_mode": {
        "name": "ipython",
        "version": 3
      },
      "file_extension": ".py",
      "mimetype": "text/x-python",
      "name": "python",
      "nbconvert_exporter": "python",
      "pygments_lexer": "ipython3",
      "version": "3.12.4"
    },
    "colab": {
      "provenance": []
    }
  },
  "nbformat": 4,
  "nbformat_minor": 5
}